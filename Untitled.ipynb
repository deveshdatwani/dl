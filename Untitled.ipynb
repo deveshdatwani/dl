{
 "cells": [
  {
   "cell_type": "code",
   "execution_count": 4,
   "id": "c6cd7eed",
   "metadata": {},
   "outputs": [],
   "source": [
    "from torch import nn as nn \n",
    "import torch "
   ]
  },
  {
   "cell_type": "code",
   "execution_count": 7,
   "id": "a558fffa",
   "metadata": {},
   "outputs": [],
   "source": [
    "x = torch.rand(8, 256)\n",
    "y = torch.rand(6, 256)"
   ]
  },
  {
   "cell_type": "code",
   "execution_count": 10,
   "id": "a54d5a38",
   "metadata": {},
   "outputs": [],
   "source": [
    "l1 = nn.Linear(256, 128)"
   ]
  },
  {
   "cell_type": "code",
   "execution_count": 15,
   "id": "69849185",
   "metadata": {},
   "outputs": [],
   "source": [
    "x2 = l1(x)"
   ]
  },
  {
   "cell_type": "code",
   "execution_count": null,
   "id": "cf239251",
   "metadata": {},
   "outputs": [],
   "source": []
  }
 ],
 "metadata": {
  "kernelspec": {
   "display_name": "Python (myenv)",
   "language": "python",
   "name": "myenv"
  },
  "language_info": {
   "codemirror_mode": {
    "name": "ipython",
    "version": 3
   },
   "file_extension": ".py",
   "mimetype": "text/x-python",
   "name": "python",
   "nbconvert_exporter": "python",
   "pygments_lexer": "ipython3",
   "version": "3.12.3"
  }
 },
 "nbformat": 4,
 "nbformat_minor": 5
}
